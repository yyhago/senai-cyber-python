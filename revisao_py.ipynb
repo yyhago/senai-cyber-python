{
 "cells": [
  {
   "cell_type": "code",
   "execution_count": null,
   "id": "71942437-c19e-4958-880f-88b726b9117a",
   "metadata": {},
   "outputs": [],
   "source": [
    "for i in range(10):\n",
    "\n",
    "    if i % 2 == 0:\n",
    "        print(f\"Contador: {i}\")\n",
    "    else:\n",
    "        print(\"Impar\")"
   ]
  },
  {
   "cell_type": "code",
   "execution_count": null,
   "id": "901259f8-5b45-408e-acb2-80300dbbb8ca",
   "metadata": {},
   "outputs": [],
   "source": [
    "i = 0\n",
    "\n",
    "while(i < 10):\n",
    "\n",
    "    if i % 2 == 0:\n",
    "        print(f\"Contador: {i}\")\n",
    "    else:\n",
    "        print(\"Impar\") \n",
    "\n",
    "    i+=1\n",
    "    "
   ]
  },
  {
   "cell_type": "code",
   "execution_count": null,
   "id": "b170b32d-1064-4aba-9746-730a77d173a0",
   "metadata": {},
   "outputs": [],
   "source": [
    "i = 0\n",
    "\n",
    "while(True):\n",
    "    i+=1\n",
    "    if i <= 10:\n",
    "            if i % 2 == 0:\n",
    "                print(f\"Contador: {i}\")\n",
    "            else:\n",
    "                print(\"Impar\") \n",
    "                "
   ]
  },
  {
   "cell_type": "code",
   "execution_count": null,
   "id": "c023e696-88fc-4387-accf-9566d499ae49",
   "metadata": {},
   "outputs": [],
   "source": [
    "def calcularParesEImpares(opcaoUsuario):\n",
    "    if opcaoUsuario == 1:\n",
    "        for i in range(10):\n",
    "            if i % 2 == 0:\n",
    "                print(f\"Pares {i}\") \n",
    "                \n",
    "    if opcaoUsuario == 2:\n",
    "        for i in range(10):\n",
    "            if i % 2 == 1:\n",
    "                print(f\"Impares: {i}\")  \n",
    "    \n",
    "\n",
    "while (True):\n",
    "    print(\"\"\"\n",
    "        1 - Testar Pares\n",
    "        2 - Testando Impares\n",
    "        0 - Sair\n",
    "    \"\"\")\n",
    "    \n",
    "    opcaoUsuario = int(input())\n",
    "\n",
    "    if opcaoUsuario == 1:\n",
    "        print(\"Testando pares..\")\n",
    "        calcularParesEImpares(opcaoUsuario)\n",
    "        continue\n",
    "    \n",
    "    if opcaoUsuario == 2:\n",
    "        print(\"Testando impares..\")\n",
    "        calcularParesEImpares(opcaoUsuario)\n",
    "        continue\n",
    "\n",
    "    \n",
    "    if opcaoUsuario == 0:\n",
    "        print(\"Encerrando...\")\n",
    "        break"
   ]
  },
  {
   "cell_type": "code",
   "execution_count": null,
   "id": "f818677a-6719-463a-8a40-141f4fa93da1",
   "metadata": {},
   "outputs": [],
   "source": [
    "matriz = [\n",
    "    [1,2,3],\n",
    "    [4,5,6],\n",
    "    [7,8,9]\n",
    "]\n",
    "\n",
    "print(f\"Linha 1: Coluna: {matriz[0]}\")\n",
    "print(f\"Linha 2: Coluna: {matriz[1]}\")\n",
    "print(f\"Linha 3: Coluna: {matriz[2]}\")"
   ]
  },
  {
   "cell_type": "code",
   "execution_count": null,
   "id": "344d1574",
   "metadata": {},
   "outputs": [],
   "source": [
    "matriz = [\n",
    "    [1,2,3],\n",
    "    [4,5,6],\n",
    "    [7,8,9]\n",
    "]\n",
    "\n",
    "soma = 0\n",
    "\n",
    "for i in matriz:\n",
    "    for j in i:\n",
    "        soma+=j\n",
    "    \n",
    "print(soma)"
   ]
  },
  {
   "cell_type": "code",
   "execution_count": null,
   "id": "785fdaa7",
   "metadata": {},
   "outputs": [],
   "source": [
    "matriz = [\n",
    "    [1,2,3],\n",
    "    [4,5,6],\n",
    "    [7,28,9],\n",
    "    [10,11,12]\n",
    "]\n",
    "\n",
    "nMaximo = 0\n",
    "\n",
    "for i in matriz:\n",
    "    for j in i:\n",
    "        nMaximo+=1\n",
    "\n",
    "        if j > nMaximo:\n",
    "            print(f\"Maior número {j}, linha: {nMaximo}, coluna: {i}\")\n",
    "    \n"
   ]
  },
  {
   "cell_type": "code",
   "execution_count": null,
   "id": "d214d734",
   "metadata": {},
   "outputs": [],
   "source": [
    "# - **Exercício 7:** Soma da Diagonal Principal\n",
    "    \n",
    "#     Crie uma função que receba uma matriz quadrada (mesmo número de linhas e colunas) e retorne a soma dos elementos da sua diagonal principal (onde o índice da linha é igual ao índice da coluna).\n",
    "\n",
    "matriz = [\n",
    "    [2, 3],\n",
    "    [4, 9]\n",
    "]\n",
    "\n",
    "def soma_diagonal_principal(matriz):\n",
    "    soma = 0\n",
    "    for i in range(len(matriz)):\n",
    "        soma += matriz[i][i]\n",
    "    return soma\n",
    "\n",
    "\n",
    "print(soma_diagonal_principal(matriz)) \n",
    "\n"
   ]
  },
  {
   "cell_type": "code",
   "execution_count": null,
   "id": "c87eb110",
   "metadata": {},
   "outputs": [],
   "source": [
    "agenda_contatos_dic = {\n",
    "    \"yhago\": 2393928433,\n",
    "    \"henrique\": 995838934,\n",
    "    \"beatriz\": 5933477533\n",
    "}\n",
    "\n",
    "while True:\n",
    "    print(\"\"\"\n",
    "    1 - Buscar usuário\n",
    "    0 - Sair\n",
    "    \"\"\")\n",
    "    opcaoMenu = input()\n",
    "\n",
    "\n",
    "    if opcaoMenu == \"1\":\n",
    "        entrada_usuario = input(\"Digite o nome que deseja o telefone (yhago, henrique e beatriz): \")\n",
    "\n",
    "        telefone = agenda_contatos_dic.get(entrada_usuario)\n",
    "\n",
    "        if telefone:  \n",
    "            print(f\"Telefone de {entrada_usuario}: {telefone}\")\n",
    "        else:\n",
    "            print(\"Usuário não encontrado.\")\n",
    "\n",
    "    elif opcaoMenu == \"0\":\n",
    "        print(\"Encerrando\")\n",
    "        break\n"
   ]
  },
  {
   "cell_type": "code",
   "execution_count": null,
   "id": "bf213415",
   "metadata": {},
   "outputs": [],
   "source": [
    "from collections import Counter\n",
    "\n",
    "frase = \"python é legal e python é divertido\"\n",
    "\n",
    "contador = Counter(frase.split())\n",
    "print(contador)"
   ]
  },
  {
   "cell_type": "code",
   "execution_count": null,
   "id": "db1cb553",
   "metadata": {},
   "outputs": [],
   "source": [
    "aluno = {\n",
    "    \"nome\": input(\"Nome: \"),\n",
    "    \"matricula\": int(input(\"Matrícula: \")),\n",
    "    \"curso\": input(\"Curso: \"),\n",
    "    \"notas\": [float(x) for x in input(\"Notas separadas por vírgula: \").split(\",\")]\n",
    "}\n",
    "aluno[\"media\"] = sum(aluno[\"notas\"]) / len(aluno[\"notas\"])\n",
    "print(aluno)\n",
    "\n"
   ]
  },
  {
   "cell_type": "code",
   "execution_count": null,
   "id": "752e0c05",
   "metadata": {},
   "outputs": [],
   "source": [
    "inventario = {\"firewall\": 10, \"roteador\": 15, \"servidor\": 5}\n",
    "\n",
    "item = input(\"Novo item: \")\n",
    "qtd = int(input(\"Quantidade: \"))\n",
    "inventario[item] = qtd\n",
    "\n",
    "item_atualiza = input(\"Item para atualizar: \")\n",
    "if item_atualiza in inventario:\n",
    "    inventario[item_atualiza] = int(input(\"Nova quantidade: \"))\n",
    "\n",
    "print(inventario)"
   ]
  },
  {
   "cell_type": "code",
   "execution_count": null,
   "id": "1f351669",
   "metadata": {},
   "outputs": [],
   "source": [
    "pessoas = []\n",
    "\n",
    "while True:\n",
    "    nome = input(\"Nome: \")\n",
    "    if nome.lower() == \"sair\":\n",
    "        break\n",
    "    idade = int(input(\"Idade: \"))\n",
    "    cidade = input(\"Cidade: \")\n",
    "    pessoas.append({\"nome\": nome, \"idade\": idade, \"cidade\": cidade})\n",
    "\n",
    "print(\"Total cadastrados:\", len(pessoas))\n",
    "mais25 = [p[\"nome\"] for p in pessoas if p[\"idade\"] > 25]\n",
    "print(\"Mais de 25 anos:\", mais25)"
   ]
  },
  {
   "cell_type": "code",
   "execution_count": null,
   "id": "2133e5f1",
   "metadata": {},
   "outputs": [],
   "source": [
    "def subtracao(n1=10, n2=5):\n",
    "    return n1 - n2\n",
    "\n",
    "print(subtracao())\n",
    "\n",
    "def multiplicacao(n1=6, n2=2):\n",
    "    return n2*n1\n",
    "\n",
    "print(multiplicacao())\n",
    "\n",
    "def divisao(n1=6, n2=2):\n",
    "    return n1 % n2 == 0\n",
    "\n",
    "print(divisao())\n"
   ]
  },
  {
   "cell_type": "code",
   "execution_count": null,
   "id": "ef867924",
   "metadata": {},
   "outputs": [],
   "source": [
    "\n",
    "def somas(*args):\n",
    "    return sum(args)\n",
    "\n",
    "lista = [1,2,3,4,5]\n",
    "print(somas(*lista))"
   ]
  },
  {
   "cell_type": "code",
   "execution_count": null,
   "id": "080386cd",
   "metadata": {},
   "outputs": [],
   "source": [
    "def sub(*args, n=6):\n",
    "    return args[0] - n\n",
    "\n",
    "print(sub(8))      \n",
    "print(sub(10, n=3)) \n"
   ]
  },
  {
   "cell_type": "code",
   "execution_count": null,
   "id": "46b9512b",
   "metadata": {},
   "outputs": [],
   "source": [
    "def funcao_kargs(**kargs):\n",
    "    return kargs\n",
    "\n",
    "print(funcao_kargs(nome=\"yhago\"))"
   ]
  }
 ],
 "metadata": {
  "kernelspec": {
   "display_name": ".venv",
   "language": "python",
   "name": "python3"
  },
  "language_info": {
   "codemirror_mode": {
    "name": "ipython",
    "version": 3
   },
   "file_extension": ".py",
   "mimetype": "text/x-python",
   "name": "python",
   "nbconvert_exporter": "python",
   "pygments_lexer": "ipython3",
   "version": "3.13.3"
  }
 },
 "nbformat": 4,
 "nbformat_minor": 5
}
