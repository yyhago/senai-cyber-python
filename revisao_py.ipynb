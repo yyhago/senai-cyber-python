{
 "cells": [
  {
   "cell_type": "code",
   "execution_count": 1,
   "id": "71942437-c19e-4958-880f-88b726b9117a",
   "metadata": {},
   "outputs": [
    {
     "name": "stdout",
     "output_type": "stream",
     "text": [
      "Contador: 0\n",
      "Impar\n",
      "Contador: 2\n",
      "Impar\n",
      "Contador: 4\n",
      "Impar\n",
      "Contador: 6\n",
      "Impar\n",
      "Contador: 8\n",
      "Impar\n"
     ]
    }
   ],
   "source": [
    "for i in range(10):\n",
    "\n",
    "    if i % 2 == 0:\n",
    "        print(f\"Contador: {i}\")\n",
    "    else:\n",
    "        print(\"Impar\")"
   ]
  },
  {
   "cell_type": "code",
   "execution_count": 2,
   "id": "901259f8-5b45-408e-acb2-80300dbbb8ca",
   "metadata": {},
   "outputs": [
    {
     "name": "stdout",
     "output_type": "stream",
     "text": [
      "Contador: 0\n",
      "Impar\n",
      "Contador: 2\n",
      "Impar\n",
      "Contador: 4\n",
      "Impar\n",
      "Contador: 6\n",
      "Impar\n",
      "Contador: 8\n",
      "Impar\n"
     ]
    }
   ],
   "source": [
    "i = 0\n",
    "\n",
    "while(i < 10):\n",
    "\n",
    "    if i % 2 == 0:\n",
    "        print(f\"Contador: {i}\")\n",
    "    else:\n",
    "        print(\"Impar\") \n",
    "\n",
    "    i+=1\n",
    "    "
   ]
  },
  {
   "cell_type": "code",
   "execution_count": null,
   "id": "b170b32d-1064-4aba-9746-730a77d173a0",
   "metadata": {},
   "outputs": [
    {
     "name": "stdout",
     "output_type": "stream",
     "text": [
      "Impar\n",
      "Contador: 2\n",
      "Impar\n",
      "Contador: 4\n",
      "Impar\n",
      "Contador: 6\n",
      "Impar\n",
      "Contador: 8\n",
      "Impar\n",
      "Contador: 10\n"
     ]
    }
   ],
   "source": [
    "i = 0\n",
    "\n",
    "while(True):\n",
    "    i+=1\n",
    "    if i <= 10:\n",
    "            if i % 2 == 0:\n",
    "                print(f\"Contador: {i}\")\n",
    "            else:\n",
    "                print(\"Impar\") \n",
    "                "
   ]
  },
  {
   "cell_type": "code",
   "execution_count": null,
   "id": "c023e696-88fc-4387-accf-9566d499ae49",
   "metadata": {},
   "outputs": [],
   "source": [
    "def calcularParesEImpares(opcaoUsuario):\n",
    "    if opcaoUsuario == 1:\n",
    "        for i in range(10):\n",
    "            if i % 2 == 0:\n",
    "                print(f\"Pares {i}\") \n",
    "                \n",
    "    if opcaoUsuario == 2:\n",
    "        for i in range(10):\n",
    "            if i % 2 == 1:\n",
    "                print(f\"Impares: {i}\")  \n",
    "    \n",
    "\n",
    "while (True):\n",
    "    print(\"\"\"\n",
    "        1 - Testar Pares\n",
    "        2 - Testando Impares\n",
    "        0 - Sair\n",
    "    \"\"\")\n",
    "    \n",
    "    opcaoUsuario = int(input())\n",
    "\n",
    "    if opcaoUsuario == 1:\n",
    "        print(\"Testando pares..\")\n",
    "        calcularParesEImpares(opcaoUsuario)\n",
    "        continue\n",
    "    \n",
    "    if opcaoUsuario == 2:\n",
    "        print(\"Testando impares..\")\n",
    "        calcularParesEImpares(opcaoUsuario)\n",
    "        continue\n",
    "\n",
    "    \n",
    "    if opcaoUsuario == 0:\n",
    "        print(\"Encerrando...\")\n",
    "        break"
   ]
  },
  {
   "cell_type": "code",
   "execution_count": 20,
   "id": "f818677a-6719-463a-8a40-141f4fa93da1",
   "metadata": {},
   "outputs": [
    {
     "name": "stdout",
     "output_type": "stream",
     "text": [
      "Linha 1: Coluna: [1, 2, 3]\n",
      "Linha 2: Coluna: [4, 5, 6]\n",
      "Linha 3: Coluna: [7, 8, 9]\n"
     ]
    }
   ],
   "source": [
    "matriz = [\n",
    "    [1,2,3],\n",
    "    [4,5,6],\n",
    "    [7,8,9]\n",
    "]\n",
    "\n",
    "print(f\"Linha 1: Coluna: {matriz[0]}\")\n",
    "print(f\"Linha 2: Coluna: {matriz[1]}\")\n",
    "print(f\"Linha 3: Coluna: {matriz[2]}\")"
   ]
  },
  {
   "cell_type": "code",
   "execution_count": 30,
   "id": "344d1574",
   "metadata": {},
   "outputs": [
    {
     "name": "stdout",
     "output_type": "stream",
     "text": [
      "45\n"
     ]
    }
   ],
   "source": [
    "matriz = [\n",
    "    [1,2,3],\n",
    "    [4,5,6],\n",
    "    [7,8,9]\n",
    "]\n",
    "\n",
    "soma = 0\n",
    "\n",
    "for i in matriz:\n",
    "    for j in i:\n",
    "        soma+=j\n",
    "    \n",
    "print(soma)"
   ]
  },
  {
   "cell_type": "code",
   "execution_count": 77,
   "id": "785fdaa7",
   "metadata": {},
   "outputs": [
    {
     "name": "stdout",
     "output_type": "stream",
     "text": [
      "Maior número 28, linha: 8, coluna: [7, 28, 9]\n"
     ]
    }
   ],
   "source": [
    "matriz = [\n",
    "    [1,2,3],\n",
    "    [4,5,6],\n",
    "    [7,28,9],\n",
    "    [10,11,12]\n",
    "]\n",
    "\n",
    "nMaximo = 0\n",
    "\n",
    "for i in matriz:\n",
    "    for j in i:\n",
    "        nMaximo+=1\n",
    "\n",
    "        if j > nMaximo:\n",
    "            print(f\"Maior número {j}, linha: {nMaximo}, coluna: {i}\")\n",
    "    \n"
   ]
  },
  {
   "cell_type": "code",
   "execution_count": null,
   "id": "d214d734",
   "metadata": {},
   "outputs": [],
   "source": [
    "# - **Exercício 7:** Soma da Diagonal Principal\n",
    "    \n",
    "#     Crie uma função que receba uma matriz quadrada (mesmo número de linhas e colunas) e retorne a soma dos elementos da sua diagonal principal (onde o índice da linha é igual ao índice da coluna)."
   ]
  },
  {
   "cell_type": "code",
   "execution_count": null,
   "id": "33ccf309",
   "metadata": {},
   "outputs": [],
   "source": []
  }
 ],
 "metadata": {
  "kernelspec": {
   "display_name": ".venv",
   "language": "python",
   "name": "python3"
  },
  "language_info": {
   "codemirror_mode": {
    "name": "ipython",
    "version": 3
   },
   "file_extension": ".py",
   "mimetype": "text/x-python",
   "name": "python",
   "nbconvert_exporter": "python",
   "pygments_lexer": "ipython3",
   "version": "3.13.3"
  }
 },
 "nbformat": 4,
 "nbformat_minor": 5
}
